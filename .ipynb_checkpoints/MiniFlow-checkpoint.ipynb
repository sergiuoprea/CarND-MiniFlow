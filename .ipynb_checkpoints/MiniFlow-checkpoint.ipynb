{
 "cells": [
  {
   "cell_type": "markdown",
   "metadata": {},
   "source": [
    "# MiniFlow implementation for Self-driving Car Nanodegree (Udacity)"
   ]
  },
  {
   "cell_type": "markdown",
   "metadata": {},
   "source": [
    "First of all we will proceed to implement a graph structure in MiniFlow. For this purpose we will create a Python class in order to represent a generic node. "
   ]
  },
  {
   "cell_type": "markdown",
   "metadata": {},
   "source": [
    "## Node class\n",
    "\n",
    "The node class will have the follwing properties:\n",
    "* each node might receive input from multiple other nodes *self.inbound_nodes)*\n",
    "* each node creates a single output which will likely be passed to other nodes *(self.outbound_nodes)*\n",
    "* each node will eventually calculate a value that represents its output *(value)*\n",
    "\n",
    "For the implementation we will use two lists: one to store references to the inbound nodes, and the other to store references to the outbound nodes. An inbound node is a node from which the current node receives values. Meanwhile, outbound nodes are the nodes to which the current node passes values."
   ]
  },
  {
   "cell_type": "code",
   "execution_count": 10,
   "metadata": {
    "collapsed": false
   },
   "outputs": [],
   "source": [
    "class Node(object):\n",
    "    def __init__(self, inbound_nodes=[]):\n",
    "        #Node properties\n",
    "        self.inbound_nodes = inbound_nodes\n",
    "        self.outbound_nodes = []\n",
    "        self.value = None\n",
    "        \n",
    "        #For each inbound node, we will add the current node (self) as an outbound node of a given inbound node.\n",
    "        for innode in self.inbound_nodes:\n",
    "            innode.outbound_nodes.append(self)"
   ]
  },
  {
   "cell_type": "markdown",
   "metadata": {},
   "source": [
    "Another property is that each node will need to be able to pass values forward and also perform backpropagation. We will first implement forward prop !"
   ]
  },
  {
   "cell_type": "code",
   "execution_count": 11,
   "metadata": {
    "collapsed": false
   },
   "outputs": [],
   "source": [
    "    def forward(self):\n",
    "        \"\"\"\n",
    "        Forward propagation which will be implemented in a subclass.\n",
    "        \n",
    "        Compute the output value based on the 'inbound_nodes' and store the result \n",
    "        in self.value\n",
    "        \"\"\"\n",
    "        raise NotImplemented"
   ]
  },
  {
   "cell_type": "markdown",
   "metadata": {},
   "source": [
    "## Input subclass of Node"
   ]
  },
  {
   "cell_type": "markdown",
   "metadata": {},
   "source": [
    "We will build subclasses of Node in order to perform calculations and hold values. For example, the **Input** subclass of Node. An input node has no inbound nodes, so there is no need to pass anything to the Node instantiator.\n",
    "\n",
    "**NOTE** *Input node is the only node where the value may be passed as an argument to forward(). All other node implementations should get the value of the previous node from self.inbound_nodes. Example: val0 = self.inbound_nodes[0].value*\n",
    "\n",
    "***The Input subclass does not actually calculate anything. The input subclass just holds a value, such as a data feature or a model parameter (weight/bias)***\n",
    "\n",
    "You can set value either explicitly or with the forward() method. This value is then fed through the rest of the neural network. "
   ]
  },
  {
   "cell_type": "code",
   "execution_count": 8,
   "metadata": {
    "collapsed": true
   },
   "outputs": [],
   "source": [
    "class Input(Node):\n",
    "    def __init__(self):\n",
    "        Node.__init__(self)\n",
    "        \n",
    "    def forward(self, value=None):\n",
    "        # Overwrite the value if one is passed in\n",
    "        if value is not None:\n",
    "            self.value = value"
   ]
  },
  {
   "cell_type": "markdown",
   "metadata": {},
   "source": [
    "## Add subclass of Node"
   ]
  },
  {
   "cell_type": "markdown",
   "metadata": {},
   "source": [
    "Will perform a calculation (addition). Unlike the **Input** class, which has no inbound nodes, the **Add** class takes 2 inbound nodes, *x* and *y*, and adds the values of those nodes."
   ]
  },
  {
   "cell_type": "code",
   "execution_count": 15,
   "metadata": {
    "collapsed": true
   },
   "outputs": [],
   "source": [
    "class Add(Node):\n",
    "    def __init__(self, x, y):\n",
    "        #We will access 'x' and 'y' in forward method with self.inbound_nodes[0]('x') and\n",
    "        #self.inbound_nodes[1]('y')\n",
    "        Node.__init__(self, [x, y])\n",
    "        \n",
    "    def forward(self):\n",
    "        \"\"\"\n",
    "        We will set self.value to the sum of its inbound_nodes\n",
    "        \"\"\"\n",
    "        self.value = self.inbound_nodes[0].value + self.inbound_nodes[1].value"
   ]
  },
  {
   "cell_type": "markdown",
   "metadata": {},
   "source": [
    "## Topological sorting"
   ]
  },
  {
   "cell_type": "markdown",
   "metadata": {},
   "source": [
    "For defining the network we will need to order the operations for the nodes. Given that the input to some node depends on the outputs of others, we will need to flatten the graph in such a way where all the input dependencies for each node are resolved before trying to run its calculation. This is a technique called a **topological sort**. \n",
    "\n",
    "For this purpose, we will implement **Kahn's Algorithm**. The method *topological_sort()* will return a sorted list of nodes in which all of the calculations can run in series. The input is a feed_dict represented by the Python dictionary data structure. "
   ]
  },
  {
   "cell_type": "markdown",
   "metadata": {},
   "source": [
    "### Implementation of the Kahn's Algorithm"
   ]
  },
  {
   "cell_type": "code",
   "execution_count": 16,
   "metadata": {
    "collapsed": true
   },
   "outputs": [],
   "source": [
    "def topological_sort(feed_dict):\n",
    "    '''\n",
    "    'feed_dict': A dictionary where the key is a 'Input' node and the value is the\n",
    "    respective value feed to that node.\n",
    "    \n",
    "    Returns a list of sorted nodes.\n",
    "    '''\n",
    "    \n",
    "    input_nodes = [n for n in feed_dict.keys()]\n",
    "\n",
    "    G = {}\n",
    "    nodes = [n for n in input_nodes]\n",
    "    while len(nodes) > 0:\n",
    "        n = nodes.pop(0)\n",
    "        if n not in G:\n",
    "            G[n] = {'in': set(), 'out': set()}\n",
    "        for m in n.outbound_nodes:\n",
    "            if m not in G:\n",
    "                G[m] = {'in': set(), 'out': set()}\n",
    "            G[n]['out'].add(m)\n",
    "            G[m]['in'].add(n)\n",
    "            nodes.append(m)\n",
    "\n",
    "    L = []\n",
    "    S = set(input_nodes)\n",
    "    while len(S) > 0:\n",
    "        n = S.pop()\n",
    "\n",
    "        if isinstance(n, Input):\n",
    "            n.value = feed_dict[n]\n",
    "\n",
    "        L.append(n)\n",
    "        for m in n.outbound_nodes:\n",
    "            G[n]['out'].remove(m)\n",
    "            G[m]['in'].remove(n)\n",
    "            # if no other incoming edges add to S\n",
    "            if len(G[m]['in']) == 0:\n",
    "                S.add(m)\n",
    "    return L"
   ]
  },
  {
   "cell_type": "markdown",
   "metadata": {},
   "source": [
    "Implementation for performing a forward pass through a list of sorted nodes"
   ]
  },
  {
   "cell_type": "code",
   "execution_count": 18,
   "metadata": {
    "collapsed": true
   },
   "outputs": [],
   "source": [
    "def forward_pass(output_node, sorted_nodes):\n",
    "    \"\"\"\n",
    "    Arguments:\n",
    "\n",
    "        'output_node': A node in the graph, should be the output node (have no outgoing edges).\n",
    "        'sorted_nodes': A topologically sorted list of nodes.\n",
    "\n",
    "    Returns the output Node's value\n",
    "    \"\"\"\n",
    "\n",
    "    for n in sorted_nodes:\n",
    "        n.forward()\n",
    "\n",
    "    return output_node.value"
   ]
  },
  {
   "cell_type": "markdown",
   "metadata": {},
   "source": [
    "## Script for building and run a graph with miniflow"
   ]
  },
  {
   "cell_type": "code",
   "execution_count": 19,
   "metadata": {
    "collapsed": false
   },
   "outputs": [
    {
     "name": "stdout",
     "output_type": "stream",
     "text": [
      "10 + 5 = 15 (according to miniflow)\n"
     ]
    }
   ],
   "source": [
    "x, y = Input(), Input()\n",
    "\n",
    "f = Add(x, y)\n",
    "\n",
    "feed_dict = {x: 10, y: 5}\n",
    "\n",
    "sorted_nodes = topological_sort(feed_dict)\n",
    "output = forward_pass(f, sorted_nodes)\n",
    "\n",
    "print(\"{} + {} = {} (according to miniflow)\".format(feed_dict[x], feed_dict[y], output))"
   ]
  },
  {
   "cell_type": "code",
   "execution_count": null,
   "metadata": {
    "collapsed": true
   },
   "outputs": [],
   "source": []
  }
 ],
 "metadata": {
  "kernelspec": {
   "display_name": "Python 3",
   "language": "python",
   "name": "python3"
  },
  "language_info": {
   "codemirror_mode": {
    "name": "ipython",
    "version": 3
   },
   "file_extension": ".py",
   "mimetype": "text/x-python",
   "name": "python",
   "nbconvert_exporter": "python",
   "pygments_lexer": "ipython3",
   "version": "3.6.0"
  }
 },
 "nbformat": 4,
 "nbformat_minor": 2
}
